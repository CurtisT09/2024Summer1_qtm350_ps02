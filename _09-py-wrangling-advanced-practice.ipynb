{
  "cells": [
    {
      "cell_type": "markdown",
      "metadata": {
        "id": "wZ2k5Dl8cji9"
      },
      "source": [
        "\n",
        "# <center>Python - Advanced Wrangling With Pandas - Practice <a class=\"tocSkip\"></center>\n",
        "# <center>QTM 350: Data Science Computing <a class=\"tocSkip\"></center>    \n",
        "# <center>Davi Moreira <a class=\"tocSkip\"></center>"
      ]
    },
    {
      "cell_type": "markdown",
      "metadata": {
        "id": "QyyUePBLcji-"
      },
      "source": [
        "## Introduction <a class=\"tocSkip\">\n",
        "<hr>\n",
        "\n",
        "<center>\n",
        "<div>\n",
        "<img src=\"https://raw.githubusercontent.com/davi-moreira/2024S_dsc_emory_qtm_350/main/lecture_material/material-topic-03/img/py4ds.png\" width=\"200\"/>\n",
        "</div>\n",
        "</center>\n",
        "\n",
        "\n",
        "This topic material is based on the [Python Programming for Data Science](https://www.tomasbeuzen.com/python-programming-for-data-science/README.html) book and adapted for our purposes in the course."
      ]
    },
    {
      "cell_type": "markdown",
      "metadata": {
        "id": "Vr3l0-Hzcji-"
      },
      "source": [
        "## Exercise"
      ]
    },
    {
      "cell_type": "markdown",
      "metadata": {
        "id": "2wVxuZZCcji-"
      },
      "source": [
        "In this set of practice exercises we'll be looking at a cool dataset of real passwords (made available from actual data breaches) sourced and compiled from [Information is Beautiful](https://informationisbeautiful.net/visualizations/top-500-passwords-visualized/?utm_content=buffer994fa&utm_medium=social&utm_source=twitter.com&utm_campaign=buffer) and contributed to [R's Tidy Tuesday project](https://github.com/rfordatascience/tidytuesday). These passwords are common (\"bad\") passwords that you should avoid using! But we're going to use this dataset to practice some regex skills.\n",
        "\n",
        "Let's start by importing pandas with the alias `pd`."
      ]
    },
    {
      "cell_type": "code",
      "execution_count": 12,
      "metadata": {
        "id": "WVp-Xnotcji-"
      },
      "outputs": [],
      "source": [
        "# Your answer here\n",
        "import pandas as pd\n"
      ]
    },
    {
      "cell_type": "markdown",
      "metadata": {
        "id": "uIASLse-cji-"
      },
      "source": [
        "## Exercise"
      ]
    },
    {
      "cell_type": "markdown",
      "metadata": {
        "id": "70Zv5s9Rcji-"
      },
      "source": [
        "The dataset has the following columns:\n",
        "\n",
        "|variable          |class     |description |\n",
        "|:-----------------|:---------|:-----------|\n",
        "|rank              |int    | popularity in their database of released passwords |\n",
        "|password          |str | Actual text of the password |\n",
        "|category          |str | What category does the password fall in to?|\n",
        "|value             |float    | Time to crack by online guessing |\n",
        "|time_unit         |str | Time unit to match with value |\n",
        "|offline_crack_sec |float    | Time to crack offline in seconds |\n",
        "|rank_alt          |int    | Rank 2 |\n",
        "|strength          |int    | Strength = quality of password where 10 is highest, 1 is lowest, please note that these are relative to these generally bad passwords |\n",
        "|font_size         |int    | Used to create the graphic for KIB |\n",
        "\n",
        "\n",
        "In these exercises, we're only interested in the `password`, `value` and `time_unit` columns so import only these two columns as a dataframe named `df` from this url: <https://raw.githubusercontent.com/rfordatascience/tidytuesday/master/data/2020/2020-01-14/passwords.csv>"
      ]
    },
    {
      "cell_type": "code",
      "execution_count": 13,
      "metadata": {
        "colab": {
          "base_uri": "https://localhost:8080/",
          "height": 424
        },
        "id": "5AX7qCIccji_",
        "outputId": "7e14e65b-8555-4a61-8416-69dddc73eb50"
      },
      "outputs": [
        {
          "data": {
            "text/html": [
              "<div>\n",
              "<style scoped>\n",
              "    .dataframe tbody tr th:only-of-type {\n",
              "        vertical-align: middle;\n",
              "    }\n",
              "\n",
              "    .dataframe tbody tr th {\n",
              "        vertical-align: top;\n",
              "    }\n",
              "\n",
              "    .dataframe thead th {\n",
              "        text-align: right;\n",
              "    }\n",
              "</style>\n",
              "<table border=\"1\" class=\"dataframe\">\n",
              "  <thead>\n",
              "    <tr style=\"text-align: right;\">\n",
              "      <th></th>\n",
              "      <th>password</th>\n",
              "      <th>value</th>\n",
              "      <th>time_unit</th>\n",
              "    </tr>\n",
              "  </thead>\n",
              "  <tbody>\n",
              "    <tr>\n",
              "      <th>0</th>\n",
              "      <td>password</td>\n",
              "      <td>6.91</td>\n",
              "      <td>years</td>\n",
              "    </tr>\n",
              "    <tr>\n",
              "      <th>1</th>\n",
              "      <td>123456</td>\n",
              "      <td>18.52</td>\n",
              "      <td>minutes</td>\n",
              "    </tr>\n",
              "    <tr>\n",
              "      <th>2</th>\n",
              "      <td>12345678</td>\n",
              "      <td>1.29</td>\n",
              "      <td>days</td>\n",
              "    </tr>\n",
              "    <tr>\n",
              "      <th>3</th>\n",
              "      <td>1234</td>\n",
              "      <td>11.11</td>\n",
              "      <td>seconds</td>\n",
              "    </tr>\n",
              "    <tr>\n",
              "      <th>4</th>\n",
              "      <td>qwerty</td>\n",
              "      <td>3.72</td>\n",
              "      <td>days</td>\n",
              "    </tr>\n",
              "    <tr>\n",
              "      <th>...</th>\n",
              "      <td>...</td>\n",
              "      <td>...</td>\n",
              "      <td>...</td>\n",
              "    </tr>\n",
              "    <tr>\n",
              "      <th>502</th>\n",
              "      <td>NaN</td>\n",
              "      <td>NaN</td>\n",
              "      <td>NaN</td>\n",
              "    </tr>\n",
              "    <tr>\n",
              "      <th>503</th>\n",
              "      <td>NaN</td>\n",
              "      <td>NaN</td>\n",
              "      <td>NaN</td>\n",
              "    </tr>\n",
              "    <tr>\n",
              "      <th>504</th>\n",
              "      <td>NaN</td>\n",
              "      <td>NaN</td>\n",
              "      <td>NaN</td>\n",
              "    </tr>\n",
              "    <tr>\n",
              "      <th>505</th>\n",
              "      <td>NaN</td>\n",
              "      <td>NaN</td>\n",
              "      <td>NaN</td>\n",
              "    </tr>\n",
              "    <tr>\n",
              "      <th>506</th>\n",
              "      <td>NaN</td>\n",
              "      <td>NaN</td>\n",
              "      <td>NaN</td>\n",
              "    </tr>\n",
              "  </tbody>\n",
              "</table>\n",
              "<p>507 rows × 3 columns</p>\n",
              "</div>"
            ],
            "text/plain": [
              "     password  value time_unit\n",
              "0    password   6.91     years\n",
              "1      123456  18.52   minutes\n",
              "2    12345678   1.29      days\n",
              "3        1234  11.11   seconds\n",
              "4      qwerty   3.72      days\n",
              "..        ...    ...       ...\n",
              "502       NaN    NaN       NaN\n",
              "503       NaN    NaN       NaN\n",
              "504       NaN    NaN       NaN\n",
              "505       NaN    NaN       NaN\n",
              "506       NaN    NaN       NaN\n",
              "\n",
              "[507 rows x 3 columns]"
            ]
          },
          "execution_count": 13,
          "metadata": {},
          "output_type": "execute_result"
        }
      ],
      "source": [
        "# Your answer here.\n",
        "df = pd.read_csv('https://raw.githubusercontent.com/rfordatascience/tidytuesday/master/data/2020/2020-01-14/passwords.csv', usecols=['password', 'value', 'time_unit'])\n",
        "df"
      ]
    },
    {
      "cell_type": "markdown",
      "metadata": {
        "id": "-KytiTghcji_"
      },
      "source": [
        "## Exercise"
      ]
    },
    {
      "cell_type": "markdown",
      "metadata": {
        "id": "3SNJ6A06cji_"
      },
      "source": [
        "An online password attack is when someone tries to hack your account by simply trying a very large number of username/password combinations to access your account. For each `password` in our dataset, the `value` column shows the amount of time it is estimated to take an \"online password attack\" to hack your account. The column `time_unit` shows the units of that time value (e.g., hours, days, years, etc.)\n",
        "\n",
        "It would be much nicer if our `value`s were of the same units so we can more easily compare the \"online password guessing time\" for each password. So your first task is to convert all of the values to units of hours (assume the conversion units I've provided below, e.g., 1 day is 24 hours, 1 week is 168 hours, etc)."
      ]
    },
    {
      "cell_type": "code",
      "execution_count": 14,
      "metadata": {
        "id": "COs0NCBccji_"
      },
      "outputs": [],
      "source": [
        "units = {\n",
        "    \"seconds\": 1 / 3600,\n",
        "    \"minutes\": 1 / 60,\n",
        "    \"days\": 24,\n",
        "    \"weeks\": 168,\n",
        "    \"months\": 720,\n",
        "    \"years\": 8760,\n",
        "    \"hours\": 1\n",
        "}\n",
        "\n"
      ]
    },
    {
      "cell_type": "code",
      "execution_count": 16,
      "metadata": {
        "colab": {
          "base_uri": "https://localhost:8080/",
          "height": 424
        },
        "id": "ppAb4b_ycji_",
        "outputId": "f61d4ae2-f283-46e7-805e-a839c95456c0"
      },
      "outputs": [
        {
          "data": {
            "text/html": [
              "<div>\n",
              "<style scoped>\n",
              "    .dataframe tbody tr th:only-of-type {\n",
              "        vertical-align: middle;\n",
              "    }\n",
              "\n",
              "    .dataframe tbody tr th {\n",
              "        vertical-align: top;\n",
              "    }\n",
              "\n",
              "    .dataframe thead th {\n",
              "        text-align: right;\n",
              "    }\n",
              "</style>\n",
              "<table border=\"1\" class=\"dataframe\">\n",
              "  <thead>\n",
              "    <tr style=\"text-align: right;\">\n",
              "      <th></th>\n",
              "      <th>password</th>\n",
              "      <th>value</th>\n",
              "      <th>time_unit</th>\n",
              "      <th>value_hours</th>\n",
              "    </tr>\n",
              "  </thead>\n",
              "  <tbody>\n",
              "    <tr>\n",
              "      <th>0</th>\n",
              "      <td>password</td>\n",
              "      <td>6.91</td>\n",
              "      <td>years</td>\n",
              "      <td>60531.600000</td>\n",
              "    </tr>\n",
              "    <tr>\n",
              "      <th>1</th>\n",
              "      <td>123456</td>\n",
              "      <td>18.52</td>\n",
              "      <td>minutes</td>\n",
              "      <td>0.308667</td>\n",
              "    </tr>\n",
              "    <tr>\n",
              "      <th>2</th>\n",
              "      <td>12345678</td>\n",
              "      <td>1.29</td>\n",
              "      <td>days</td>\n",
              "      <td>30.960000</td>\n",
              "    </tr>\n",
              "    <tr>\n",
              "      <th>3</th>\n",
              "      <td>1234</td>\n",
              "      <td>11.11</td>\n",
              "      <td>seconds</td>\n",
              "      <td>0.003086</td>\n",
              "    </tr>\n",
              "    <tr>\n",
              "      <th>4</th>\n",
              "      <td>qwerty</td>\n",
              "      <td>3.72</td>\n",
              "      <td>days</td>\n",
              "      <td>89.280000</td>\n",
              "    </tr>\n",
              "    <tr>\n",
              "      <th>...</th>\n",
              "      <td>...</td>\n",
              "      <td>...</td>\n",
              "      <td>...</td>\n",
              "      <td>...</td>\n",
              "    </tr>\n",
              "    <tr>\n",
              "      <th>502</th>\n",
              "      <td>NaN</td>\n",
              "      <td>NaN</td>\n",
              "      <td>NaN</td>\n",
              "      <td>NaN</td>\n",
              "    </tr>\n",
              "    <tr>\n",
              "      <th>503</th>\n",
              "      <td>NaN</td>\n",
              "      <td>NaN</td>\n",
              "      <td>NaN</td>\n",
              "      <td>NaN</td>\n",
              "    </tr>\n",
              "    <tr>\n",
              "      <th>504</th>\n",
              "      <td>NaN</td>\n",
              "      <td>NaN</td>\n",
              "      <td>NaN</td>\n",
              "      <td>NaN</td>\n",
              "    </tr>\n",
              "    <tr>\n",
              "      <th>505</th>\n",
              "      <td>NaN</td>\n",
              "      <td>NaN</td>\n",
              "      <td>NaN</td>\n",
              "      <td>NaN</td>\n",
              "    </tr>\n",
              "    <tr>\n",
              "      <th>506</th>\n",
              "      <td>NaN</td>\n",
              "      <td>NaN</td>\n",
              "      <td>NaN</td>\n",
              "      <td>NaN</td>\n",
              "    </tr>\n",
              "  </tbody>\n",
              "</table>\n",
              "<p>507 rows × 4 columns</p>\n",
              "</div>"
            ],
            "text/plain": [
              "     password  value time_unit   value_hours\n",
              "0    password   6.91     years  60531.600000\n",
              "1      123456  18.52   minutes      0.308667\n",
              "2    12345678   1.29      days     30.960000\n",
              "3        1234  11.11   seconds      0.003086\n",
              "4      qwerty   3.72      days     89.280000\n",
              "..        ...    ...       ...           ...\n",
              "502       NaN    NaN       NaN           NaN\n",
              "503       NaN    NaN       NaN           NaN\n",
              "504       NaN    NaN       NaN           NaN\n",
              "505       NaN    NaN       NaN           NaN\n",
              "506       NaN    NaN       NaN           NaN\n",
              "\n",
              "[507 rows x 4 columns]"
            ]
          },
          "execution_count": 16,
          "metadata": {},
          "output_type": "execute_result"
        }
      ],
      "source": [
        "\n",
        "for index, row in df.iterrows():\n",
        "    if row['time_unit'] in units:\n",
        "        df.loc[index, 'value_hours'] = df.loc[index, 'value'] * units[row['time_unit']]\n",
        "\n",
        "df"
      ]
    },
    {
      "cell_type": "markdown",
      "metadata": {
        "id": "0jWkUPD1cji_"
      },
      "source": [
        "## Exercise"
      ]
    },
    {
      "cell_type": "markdown",
      "metadata": {
        "id": "ODwEJLRXcji_"
      },
      "source": [
        "How many password begin with the sequence `123`?"
      ]
    },
    {
      "cell_type": "code",
      "execution_count": 17,
      "metadata": {
        "colab": {
          "base_uri": "https://localhost:8080/"
        },
        "id": "wJ62jo0ocji_",
        "outputId": "4465f1b6-d86f-4122-ca98-f1006e6153bd"
      },
      "outputs": [
        {
          "data": {
            "text/plain": [
              "9"
            ]
          },
          "execution_count": 17,
          "metadata": {},
          "output_type": "execute_result"
        }
      ],
      "source": [
        "# Your answer here.\n",
        "df['password'].str.startswith('123').sum()"
      ]
    },
    {
      "cell_type": "markdown",
      "metadata": {
        "id": "zpFKJUMOcji_"
      },
      "source": [
        "## Exercise"
      ]
    },
    {
      "cell_type": "markdown",
      "metadata": {
        "id": "W9uOV6kzcji_"
      },
      "source": [
        "What is the average time in hours needed to crack these passwords that begin with `123`? How does this compare to the average of all passwords in the dataset?"
      ]
    },
    {
      "cell_type": "code",
      "execution_count": 18,
      "metadata": {
        "colab": {
          "base_uri": "https://localhost:8080/"
        },
        "id": "UhDZlxEMcji_",
        "outputId": "ceaecf4e-a6cb-44e7-a249-cf373d6f906b"
      },
      "outputs": [
        {
          "name": "stdout",
          "output_type": "stream",
          "text": [
            "107.30332438271606\n"
          ]
        }
      ],
      "source": [
        "# Your answer here.\n",
        "sum=0\n",
        "count=0\n",
        "for index, row in df.iterrows():\n",
        "    if isinstance(row['password'], str) and row['password'].startswith('123'):\n",
        "        sum+=row['value_hours']\n",
        "        count+=1\n",
        "print(sum/count)\n"
      ]
    },
    {
      "cell_type": "markdown",
      "metadata": {
        "id": "hSIQooVycji_"
      },
      "source": [
        "## Exercise"
      ]
    },
    {
      "cell_type": "markdown",
      "metadata": {
        "id": "zj_HUk-9cji_"
      },
      "source": [
        "How many passwords do not contain a number?"
      ]
    },
    {
      "cell_type": "code",
      "execution_count": 19,
      "metadata": {
        "colab": {
          "base_uri": "https://localhost:8080/"
        },
        "id": "AiNRpLbKcji_",
        "outputId": "ec48e8c2-aad3-4a98-a946-e1aadc94dd5e"
      },
      "outputs": [
        {
          "data": {
            "text/plain": [
              "446"
            ]
          },
          "execution_count": 19,
          "metadata": {},
          "output_type": "execute_result"
        }
      ],
      "source": [
        "# Your answer here.\n",
        "(~df['password'].dropna().str.contains('\\d')).sum()"
      ]
    },
    {
      "cell_type": "markdown",
      "metadata": {
        "id": "kyyAdDi4cji_"
      },
      "source": [
        "## Exercise"
      ]
    },
    {
      "cell_type": "markdown",
      "metadata": {
        "id": "33S1kGuwcji_"
      },
      "source": [
        "How many passwords contain at least one number?"
      ]
    },
    {
      "cell_type": "code",
      "execution_count": 20,
      "metadata": {
        "colab": {
          "base_uri": "https://localhost:8080/"
        },
        "id": "4bU_ZHV3cji_",
        "outputId": "7c9e465e-6a11-432e-ed82-3a30402ccf00"
      },
      "outputs": [
        {
          "data": {
            "text/plain": [
              "54"
            ]
          },
          "execution_count": 20,
          "metadata": {},
          "output_type": "execute_result"
        }
      ],
      "source": [
        "# Your answer here.\n",
        "df['password'].str.contains('\\d').sum()"
      ]
    },
    {
      "cell_type": "markdown",
      "metadata": {
        "id": "ddpFbVircji_"
      },
      "source": [
        "## Exercise"
      ]
    },
    {
      "cell_type": "markdown",
      "metadata": {
        "id": "FpsOSt_scji_"
      },
      "source": [
        "Is there an obvious difference in online cracking time between passwords that don't contain a number vs passwords that contain at least one number?"
      ]
    },
    {
      "cell_type": "code",
      "execution_count": 21,
      "metadata": {
        "id": "BgSXsE3tcji_"
      },
      "outputs": [
        {
          "name": "stdout",
          "output_type": "stream",
          "text": [
            "Average time to crack a password with numbers in hours is 62004.65410396089 and without numbers is 8095.361663677129.\n"
          ]
        }
      ],
      "source": [
        "# Yes there is an obvious difference without passwords with numbers taking much longer to crack.\n",
        "\n",
        "df['hasNum'] = False\n",
        "\n",
        "for i in range(len(df)):\n",
        "    password = df.loc[i, 'password']\n",
        "    for char in str(password):\n",
        "        if char.isdigit():\n",
        "            df.loc[i, 'hasNum'] = True\n",
        "            break\n",
        "\n",
        "listNums = df[df['hasNum']]\n",
        "listNoNums = df[~df['hasNum']]\n",
        "\n",
        "avgTimeNums = listNums['value_hours'].mean()\n",
        "avgTimeNoNums = listNoNums['value_hours'].mean()\n",
        "\n",
        "print(f\"Average time to crack a password with numbers in hours is {avgTimeNums} and without numbers is {avgTimeNoNums}.\")"
      ]
    },
    {
      "cell_type": "markdown",
      "metadata": {
        "id": "scKBMg7Ocji_"
      },
      "source": [
        "## Exercise"
      ]
    },
    {
      "cell_type": "markdown",
      "metadata": {
        "id": "VeKCtjbqcji_"
      },
      "source": [
        "How many passwords contain at least one of the following punctuations: `[.!?\\\\-]` (hint: remember this dataset contains *weak* passwords...)?"
      ]
    },
    {
      "cell_type": "code",
      "execution_count": null,
      "metadata": {
        "id": "x9rLxOaxcji_"
      },
      "outputs": [],
      "source": [
        "# Your answer here."
      ]
    },
    {
      "cell_type": "markdown",
      "metadata": {
        "id": "YJAnmt1ccji_"
      },
      "source": [
        "## Exercise"
      ]
    },
    {
      "cell_type": "markdown",
      "metadata": {
        "id": "bttWTYpocji_"
      },
      "source": [
        "Which password(s) in the datasets took the shortest time to crack by online guessing? Which took the longest?"
      ]
    },
    {
      "cell_type": "code",
      "execution_count": null,
      "metadata": {
        "id": "10t4fbI7cjjA"
      },
      "outputs": [],
      "source": [
        "# Your answer here."
      ]
    },
    {
      "cell_type": "code",
      "execution_count": null,
      "metadata": {
        "id": "PmCYQqQTcjjA",
        "outputId": "ac06362d-275b-44b6-f865-a9de756e6b92"
      },
      "outputs": [
        {
          "name": "stdout",
          "output_type": "stream",
          "text": [
            "[NbConvertApp] Converting notebook _09-py-wrangling-advanced-practice.ipynb to html\n",
            "[NbConvertApp] Writing 287880 bytes to 09-py-wrangling-advanced-practice.html\n"
          ]
        }
      ],
      "source": [
        "!jupyter nbconvert _09-py-wrangling-advanced-practice.ipynb --to html --template classic --output 09-py-wrangling-advanced-practice.html"
      ]
    },
    {
      "cell_type": "markdown",
      "metadata": {
        "id": "keykSOE0cjjA"
      },
      "source": [
        "# <center>Have fun!<a class=\"tocSkip\"></center>"
      ]
    }
  ],
  "metadata": {
    "colab": {
      "provenance": []
    },
    "kernelspec": {
      "display_name": "Python 3 (ipykernel)",
      "language": "python",
      "name": "python3"
    },
    "language_info": {
      "codemirror_mode": {
        "name": "ipython",
        "version": 3
      },
      "file_extension": ".py",
      "mimetype": "text/x-python",
      "name": "python",
      "nbconvert_exporter": "python",
      "pygments_lexer": "ipython3",
      "version": "3.9.18"
    },
    "toc": {
      "base_numbering": 1,
      "nav_menu": {},
      "number_sections": true,
      "sideBar": false,
      "skip_h1_title": false,
      "title_cell": "Table of Contents",
      "title_sidebar": "Contents",
      "toc_cell": false,
      "toc_position": {},
      "toc_section_display": true,
      "toc_window_display": false
    },
    "varInspector": {
      "cols": {
        "lenName": 16,
        "lenType": 16,
        "lenVar": 40
      },
      "kernels_config": {
        "python": {
          "delete_cmd_postfix": "",
          "delete_cmd_prefix": "del ",
          "library": "var_list.py",
          "varRefreshCmd": "print(var_dic_list())"
        },
        "r": {
          "delete_cmd_postfix": ") ",
          "delete_cmd_prefix": "rm(",
          "library": "var_list.r",
          "varRefreshCmd": "cat(var_dic_list()) "
        }
      },
      "types_to_exclude": [
        "module",
        "function",
        "builtin_function_or_method",
        "instance",
        "_Feature"
      ],
      "window_display": false
    }
  },
  "nbformat": 4,
  "nbformat_minor": 0
}
